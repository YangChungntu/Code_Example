{
 "cells": [
  {
   "cell_type": "code",
   "execution_count": 1,
   "metadata": {},
   "outputs": [],
   "source": [
    "import numpy as np\n",
    "import pandas as pd\n",
    "from scipy.stats import pearsonr\n",
    "from tqdm.notebook import trange\n",
    "import nbimporter\n",
    "np.random.seed(1234)\n",
    "\n",
    "from class_function import *"
   ]
  },
  {
   "cell_type": "code",
   "execution_count": 2,
   "metadata": {},
   "outputs": [],
   "source": [
    "numberBuyers = 5\n",
    "numberSellers = 5\n",
    "maxValue = 150\n",
    "minValue = 108\n",
    "maxCost = 120\n",
    "minCost = 50\n",
    "Quantity = 3\n",
    "\n",
    "# Create vector holding all the values and costs\n",
    "Values = []\n",
    "Costs = []\n",
    "numberGoods = numberBuyers * Quantity\n",
    "Value_d = (maxValue - minValue)/(numberGoods - 1)\n",
    "Cost_d = (maxCost - minCost)/(numberGoods - 1)\n",
    "\n",
    "for i in range(numberBuyers):\n",
    "    c = []\n",
    "    v = []\n",
    "    for j in range(Quantity):\n",
    "        c.append(minCost + (i + numberSellers * j)*Cost_d)\n",
    "        v.append(minValue + (i + numberBuyers * j)*Value_d)\n",
    "    Costs.append(c)\n",
    "    Values.append(v)\n",
    "    \n",
    "setting = {\n",
    "    \"numberBuyers\": 5,\n",
    "    \"numberSellers\": 5,\n",
    "    \"Quantity\": 3,\n",
    "    \"bound\": 300,\n",
    "    \"Values\": Values,\n",
    "    \"Costs\": Costs\n",
    "}\n",
    "\n",
    "# setting = {\n",
    "#     \"numberBuyers\": 5,\n",
    "#     \"numberSellers\": 5,\n",
    "#     \"Quantity\": 3,\n",
    "#     \"bound\": 150,\n",
    "#     \"Values\": Values,\n",
    "#     \"Costs\": Costs\n",
    "# }"
   ]
  },
  {
   "cell_type": "code",
   "execution_count": 3,
   "metadata": {
    "scrolled": true
   },
   "outputs": [
    {
     "data": {
      "application/vnd.jupyter.widget-view+json": {
       "model_id": "5e669e9a4a4d47d9b0bf3d1229098c6b",
       "version_major": 2,
       "version_minor": 0
      },
      "text/plain": [
       "  0%|          | 0/10000 [00:00<?, ?it/s]"
      ]
     },
     "metadata": {},
     "output_type": "display_data"
    },
    {
     "name": "stdout",
     "output_type": "stream",
     "text": [
      "             indice       avg        sd\n",
      "0   trx_order_buyer -0.713637  0.137220\n",
      "1  trx_order_seller  0.739561  0.124462\n",
      "2         auto corr -0.459103  0.229038\n"
     ]
    }
   ],
   "source": [
    "sim = simulation(setting, 1234, 0, 10000)\n",
    "print(sim[\"summary\"])"
   ]
  },
  {
   "cell_type": "code",
   "execution_count": 5,
   "metadata": {
    "scrolled": true
   },
   "outputs": [],
   "source": [
    "name = \"simulation_output.dta\"\n",
    "name_detail = \"simulation_output_detail.dta\"\n",
    "\n",
    "save = -1\n",
    "while (save != 0) & (save != 1):\n",
    "    save = int(input('Please enter ''1'' to save , ''0'' otherwise:  '))\n",
    "\n",
    "if save == 1:\n",
    "    dict = {\n",
    "        \"auto_corr\": sim[\"output\"][\"auto_corr\"],\n",
    "        \"trx_order_seller\": sim[\"output\"][\"trx_order_seller\"],\n",
    "        \"trx_order_buyer\": sim[\"output\"][\"trx_order_buyer\"],\n",
    "        \"q\": sim[\"output\"][\"q\"]\n",
    "    }\n",
    "    df = pd.DataFrame(dict)\n",
    "    df.to_stata(\"simulation_output/\" + name)\n",
    "    \n",
    "save_2 = -1\n",
    "while (save_2 != 0) & (save_2 != 1):\n",
    "    save_2 = int(input('Please enter ''1'' to save detail , ''0'' otherwise:  '))\n",
    "\n",
    "if save_2 == 1:\n",
    "    dict = {\n",
    "        \"buyervalue\": sim[\"output_detail\"][\"buyervalue\"],\n",
    "        \"sellercost\": sim[\"output_detail\"][\"sellercost\"],\n",
    "        \"price\": sim[\"output_detail\"][\"price\"],\n",
    "        \"simulation\": sim[\"output_detail\"][\"simulation\"]\n",
    "    }\n",
    "    df = pd.DataFrame(dict)\n",
    "    df.to_stata(\"simulation_output/\" + name_detail)"
   ]
  }
 ],
 "metadata": {
  "kernelspec": {
   "display_name": "Python 3",
   "language": "python",
   "name": "python3"
  },
  "language_info": {
   "codemirror_mode": {
    "name": "ipython",
    "version": 3
   },
   "file_extension": ".py",
   "mimetype": "text/x-python",
   "name": "python",
   "nbconvert_exporter": "python",
   "pygments_lexer": "ipython3",
   "version": "3.8.5"
  }
 },
 "nbformat": 4,
 "nbformat_minor": 2
}
