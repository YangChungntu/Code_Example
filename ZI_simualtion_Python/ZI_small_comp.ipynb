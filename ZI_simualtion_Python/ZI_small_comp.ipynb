{
 "cells": [
  {
   "cell_type": "code",
   "execution_count": 1,
   "metadata": {},
   "outputs": [],
   "source": [
    "import numpy as np\n",
    "import pandas as pd\n",
    "from scipy.stats import pearsonr\n",
    "from tqdm.notebook import trange\n",
    "\n",
    "import nbimporter\n",
    "\n",
    "from class_function import *"
   ]
  },
  {
   "cell_type": "markdown",
   "metadata": {},
   "source": [
    "# Settings"
   ]
  },
  {
   "cell_type": "code",
   "execution_count": 2,
   "metadata": {},
   "outputs": [],
   "source": [
    "###########\n",
    "# Small 1 #\n",
    "###########\n",
    "\n",
    "# Create vector holding all the values and costs\n",
    "Values_small1 = [[150, 135, 120], [147, 132, 117], [144, 129, 114]]\n",
    "Costs_small1 = [[50, 75, 100], [55, 80, 105], [60, 85, 110]]\n",
    "\n",
    "setting_small1 = {\n",
    "    \"numberBuyers\": 3,\n",
    "    \"numberSellers\": 3,\n",
    "    \"Quantity\": 3,\n",
    "    \"bound\": 300,\n",
    "    \"Values\": Values_small1,\n",
    "    \"Costs\": Costs_small1\n",
    "}\n",
    "\n",
    "###########\n",
    "# Small 3 #\n",
    "###########\n",
    "\n",
    "# Create vector holding all the values and costs\n",
    "Values_small3 = [[150, 135, 120], [147, 132, 117]]\n",
    "Costs_small3 =  [[50, 75, 100], [55, 80, 105]]\n",
    "\n",
    "\n",
    "setting_small3 = {\n",
    "    \"numberBuyers\": 2,\n",
    "    \"numberSellers\": 2,\n",
    "    \"Quantity\": 3,\n",
    "    \"bound\": 300,\n",
    "    \"Values\": Values_small3,\n",
    "    \"Costs\": Costs_small3\n",
    "}\n",
    "\n",
    "###########\n",
    "# Small 5 #\n",
    "###########\n",
    "# Create vector holding all the values and costs\n",
    "Values_small5 = [[150, 132, 114], [144, 126, 108], [138, 120, 102]]\n",
    "Costs_small5 = [[50, 74, 98], [58, 82, 106], [66, 90, 114]]\n",
    "\n",
    "setting_small5 = {\n",
    "    \"numberBuyers\": 3,\n",
    "    \"numberSellers\": 3,\n",
    "    \"Quantity\": 3,\n",
    "    \"bound\": 300,\n",
    "    \"Values\": Values_small5,\n",
    "    \"Costs\": Costs_small5\n",
    "}\n",
    "\n",
    "###########\n",
    "# Small 6 #\n",
    "###########\n",
    "# Create vector holding all the values and costs\n",
    "Values_small6 = [[150, 130, 110], [140, 120, 100]]\n",
    "Costs_small6 = [[50, 74, 98], [58, 82, 106], [66, 90, 114]]\n",
    "\n",
    "setting_small6 = {\n",
    "    \"numberBuyers\": 2,\n",
    "    \"numberSellers\": 3,\n",
    "    \"Quantity\": 3,\n",
    "    \"bound\": 300,\n",
    "    \"Values\": Values_small6,\n",
    "    \"Costs\": Costs_small6\n",
    "}\n",
    "\n",
    "###########\n",
    "# Small 9 #\n",
    "###########\n",
    "# Create vector holding all the values and costs\n",
    "Values_small9 = [[150, 135, 120], [147, 132, 117]]\n",
    "Costs_small9 = [[50, 75, 100], [55, 80, 105], [60, 85, 110]]\n",
    "\n",
    "setting_small9 = {\n",
    "    \"numberBuyers\": 2,\n",
    "    \"numberSellers\": 3,\n",
    "    \"Quantity\": 3,\n",
    "    \"bound\": 300,\n",
    "    \"Values\": Values_small9,\n",
    "    \"Costs\": Costs_small9\n",
    "}"
   ]
  },
  {
   "cell_type": "markdown",
   "metadata": {},
   "source": [
    "# Simulation"
   ]
  },
  {
   "cell_type": "code",
   "execution_count": 3,
   "metadata": {},
   "outputs": [
    {
     "name": "stdout",
     "output_type": "stream",
     "text": [
      "==========\n",
      "small 1\n"
     ]
    },
    {
     "data": {
      "application/vnd.jupyter.widget-view+json": {
       "model_id": "c1919f4dfb184ca08ea5e987503bc6d6",
       "version_major": 2,
       "version_minor": 0
      },
      "text/plain": [
       "  0%|          | 0/10000 [00:00<?, ?it/s]"
      ]
     },
     "metadata": {},
     "output_type": "display_data"
    },
    {
     "name": "stdout",
     "output_type": "stream",
     "text": [
      "             indice       avg        sd\n",
      "0   trx_order_buyer -0.774397  0.158924\n",
      "1  trx_order_seller  0.790215  0.147512\n",
      "2         auto corr -0.447324  0.298529\n",
      "==========\n",
      "small 3\n"
     ]
    },
    {
     "data": {
      "application/vnd.jupyter.widget-view+json": {
       "model_id": "3a13f505a6784b53ac7d166e161e2025",
       "version_major": 2,
       "version_minor": 0
      },
      "text/plain": [
       "  0%|          | 0/10000 [00:00<?, ?it/s]"
      ]
     },
     "metadata": {},
     "output_type": "display_data"
    },
    {
     "name": "stdout",
     "output_type": "stream",
     "text": [
      "             indice       avg        sd\n",
      "0   trx_order_buyer -0.811874  0.184788\n",
      "1  trx_order_seller  0.817766  0.176248\n",
      "2         auto corr -0.456576  0.395499\n",
      "==========\n",
      "small 5\n"
     ]
    },
    {
     "data": {
      "application/vnd.jupyter.widget-view+json": {
       "model_id": "ac4dc230a7da4ff79220844ae5666bcf",
       "version_major": 2,
       "version_minor": 0
      },
      "text/plain": [
       "  0%|          | 0/10000 [00:00<?, ?it/s]"
      ]
     },
     "metadata": {},
     "output_type": "display_data"
    },
    {
     "name": "stdout",
     "output_type": "stream",
     "text": [
      "             indice       avg        sd\n",
      "0   trx_order_buyer -0.772106  0.161569\n",
      "1  trx_order_seller  0.764481  0.159309\n",
      "2         auto corr -0.455908  0.310651\n",
      "==========\n",
      "small 6\n"
     ]
    },
    {
     "data": {
      "application/vnd.jupyter.widget-view+json": {
       "model_id": "cb23c343ae1c4db3912b3ba5a64b5525",
       "version_major": 2,
       "version_minor": 0
      },
      "text/plain": [
       "  0%|          | 0/10000 [00:00<?, ?it/s]"
      ]
     },
     "metadata": {},
     "output_type": "display_data"
    },
    {
     "name": "stdout",
     "output_type": "stream",
     "text": [
      "             indice       avg        sd\n",
      "0   trx_order_buyer -0.835509  0.165190\n",
      "1  trx_order_seller  0.627543  0.261945\n",
      "2         auto corr -0.463692  0.383801\n",
      "==========\n",
      "small 9\n"
     ]
    },
    {
     "data": {
      "application/vnd.jupyter.widget-view+json": {
       "model_id": "64fb823d3334460790cc318a309bd151",
       "version_major": 2,
       "version_minor": 0
      },
      "text/plain": [
       "  0%|          | 0/10000 [00:00<?, ?it/s]"
      ]
     },
     "metadata": {},
     "output_type": "display_data"
    },
    {
     "name": "stdout",
     "output_type": "stream",
     "text": [
      "             indice       avg        sd\n",
      "0   trx_order_buyer -0.790069  0.199354\n",
      "1  trx_order_seller  0.609029  0.271548\n",
      "2         auto corr -0.454282  0.385203\n"
     ]
    }
   ],
   "source": [
    "small_settings = [setting_small1, setting_small3, setting_small5, setting_small6, setting_small9]\n",
    "number = [1, 3, 5, 6, 9]\n",
    "save = True\n",
    "\n",
    "for t in range(5):\n",
    "    print(\"==========\")\n",
    "    market_num = number[t]\n",
    "    print(\"small\", market_num)\n",
    "    sim = simulation(small_settings[t], 1234, 0, 10000)\n",
    "    print(sim[\"summary\"])\n",
    "    if save:\n",
    "        name = \"simulation_output_\" + \"small_\" + str(market_num) + \".dta\"\n",
    "        name_detail = \"simulation_output_\" + \"small_\" + str(market_num) + \"_detail.dta\"\n",
    "        \n",
    "        dict1 = {\n",
    "            \"auto_corr\": sim[\"output\"][\"auto_corr\"],\n",
    "            \"trx_order_seller\": sim[\"output\"][\"trx_order_seller\"],\n",
    "            \"trx_order_buyer\": sim[\"output\"][\"trx_order_buyer\"],\n",
    "            \"q\": sim[\"output\"][\"q\"]\n",
    "        }\n",
    "        df = pd.DataFrame(dict1)\n",
    "        df.to_stata(\"simulation_output/\" + name)\n",
    "        \n",
    "        dict2 = {\n",
    "            \"buyervalue\": sim[\"output_detail\"][\"buyervalue\"],\n",
    "            \"sellercost\": sim[\"output_detail\"][\"sellercost\"],\n",
    "            \"price\": sim[\"output_detail\"][\"price\"],\n",
    "            \"simulation\": sim[\"output_detail\"][\"simulation\"]\n",
    "        }\n",
    "        df = pd.DataFrame(dict2)\n",
    "        df.to_stata(\"simulation_output/\" + name_detail)"
   ]
  }
 ],
 "metadata": {
  "kernelspec": {
   "display_name": "Python 3",
   "language": "python",
   "name": "python3"
  },
  "language_info": {
   "codemirror_mode": {
    "name": "ipython",
    "version": 3
   },
   "file_extension": ".py",
   "mimetype": "text/x-python",
   "name": "python",
   "nbconvert_exporter": "python",
   "pygments_lexer": "ipython3",
   "version": "3.8.5"
  }
 },
 "nbformat": 4,
 "nbformat_minor": 4
}
